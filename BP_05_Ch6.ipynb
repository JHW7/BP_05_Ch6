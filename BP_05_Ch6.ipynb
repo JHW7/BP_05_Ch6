{
  "nbformat": 4,
  "nbformat_minor": 0,
  "metadata": {
    "colab": {
      "provenance": [],
      "authorship_tag": "ABX9TyPSKlTEcY4OywPJ5+lJFEaC",
      "include_colab_link": true
    },
    "kernelspec": {
      "name": "python3",
      "display_name": "Python 3"
    },
    "language_info": {
      "name": "python"
    }
  },
  "cells": [
    {
      "cell_type": "markdown",
      "metadata": {
        "id": "view-in-github",
        "colab_type": "text"
      },
      "source": [
        "<a href=\"https://colab.research.google.com/github/JHW7/BP_05_Ch6/blob/main/BP_05_Ch6.ipynb\" target=\"_parent\"><img src=\"https://colab.research.google.com/assets/colab-badge.svg\" alt=\"Open In Colab\"/></a>"
      ]
    },
    {
      "cell_type": "markdown",
      "source": [
        "1. 2부터 100 사이의 모든 짝수를 출력하는 반복 루프를 작성한다."
      ],
      "metadata": {
        "id": "TwyTDDytzOmF"
      }
    },
    {
      "cell_type": "code",
      "execution_count": 1,
      "metadata": {
        "colab": {
          "base_uri": "https://localhost:8080/"
        },
        "id": "T88XiRrYy3CA",
        "outputId": "59d7ac8c-35cc-46ac-80d6-8704ddc6082e"
      },
      "outputs": [
        {
          "output_type": "stream",
          "name": "stdout",
          "text": [
            "2468101214161820222426283032343638404244464850525456586062646668707274767880828486889092949698100"
          ]
        }
      ],
      "source": [
        "for i in range(2, 101):               #반복문\n",
        "  if i%2==0:                          #만약\n",
        "    print(i,end = \"\")"
      ]
    },
    {
      "cell_type": "markdown",
      "source": [
        "2. 어떤 사람이 복리이자율 7%로 1000만 원을 저금했을 경우에 2000만 원이 되는데 몇 년이 걸리는지 계산하기 위하여 다음과 같은 코드를 작성하였다. 잘못된 점은 없는지 체크해보자."
      ],
      "metadata": {
        "id": "Rh5I4x6lz15j"
      }
    },
    {
      "cell_type": "code",
      "source": [
        "year = 0\n",
        "balance = 1000\n",
        "while balance <= 2000:                #반복 # 2000보다 작다면\n",
        "  year = year + 1\n",
        "  interest = balance * 0.07\n",
        "  balance = balance + interest\n",
        "print(year, \"년이 걸립니다.\")"
      ],
      "metadata": {
        "colab": {
          "base_uri": "https://localhost:8080/"
        },
        "id": "6b1L9Jdh0IvT",
        "outputId": "f40698d7-a1bd-4302-c593-4c3f44466e87"
      },
      "execution_count": 2,
      "outputs": [
        {
          "output_type": "stream",
          "name": "stdout",
          "text": [
            "11 년이 걸립니다.\n"
          ]
        }
      ]
    },
    {
      "cell_type": "markdown",
      "source": [
        "3. 다음 코드의 출력을 예상해보자. 각 단계에서 변수의 값을 예상해보시오."
      ],
      "metadata": {
        "id": "vWpFMNGS0lA6"
      }
    },
    {
      "cell_type": "code",
      "source": [
        "n = 1234\n",
        "sum = 0\n",
        "while n > 0:\n",
        "  digit = n % 10\n",
        "  sum = sum + digit\n",
        "  n = n //10\n",
        "print(sum)"
      ],
      "metadata": {
        "colab": {
          "base_uri": "https://localhost:8080/"
        },
        "id": "qb32lZRs0zFs",
        "outputId": "a8e13508-5ae2-40e1-cc1e-5feac487f2d0"
      },
      "execution_count": 3,
      "outputs": [
        {
          "output_type": "stream",
          "name": "stdout",
          "text": [
            "10\n"
          ]
        }
      ]
    },
    {
      "cell_type": "markdown",
      "source": [
        "4. 사용자에게 곱셈 퀴즈를 내고 답을 사용자로부터 받는 프로그램에서 사용자가 올바른 답을 입력할 때까지 반복하도록 수정하여 보자."
      ],
      "metadata": {
        "id": "bDUCwweR1Lcd"
      }
    },
    {
      "cell_type": "code",
      "source": [
        "ans = 0\n",
        "while ans != 3*9:\n",
        "  ans = int(input(\"3*9는\"))            #문자\n",
        "print(\"맞았습니다.\")"
      ],
      "metadata": {
        "colab": {
          "base_uri": "https://localhost:8080/"
        },
        "id": "IvZFSHPR1Tbb",
        "outputId": "577a71eb-0738-46d9-a57a-87a6c3f29f7e"
      },
      "execution_count": 7,
      "outputs": [
        {
          "output_type": "stream",
          "name": "stdout",
          "text": [
            "3*9는3\n",
            "3*9는9\n",
            "3*9는27\n",
            "맞았습니다.\n"
          ]
        }
      ]
    },
    {
      "cell_type": "markdown",
      "source": [
        "5. 사용자가 입력한 정수의 합을 계산하는 프로그램을 작성하자. 사용자가 0을 입력하기 전까지 정수를 계속하여 읽도록 한다."
      ],
      "metadata": {
        "id": "UUZVgoNn1zAs"
      }
    },
    {
      "cell_type": "code",
      "source": [
        "sum = 0\n",
        "while True:\n",
        "  x = int(input(\"정수를 입력하시오: \"))\n",
        "  if x == 0:\n",
        "    break;\n",
        "  sum = sum + x\n",
        "print(\"합은\", sum, \"입니다.\")\n"
      ],
      "metadata": {
        "colab": {
          "base_uri": "https://localhost:8080/"
        },
        "id": "RneC3niS17B8",
        "outputId": "75229533-90d5-4073-ca03-ac12bfecd3dc"
      },
      "execution_count": 8,
      "outputs": [
        {
          "output_type": "stream",
          "name": "stdout",
          "text": [
            "정수를 입력하시오: 1\n",
            "정수를 입력하시오: 2\n",
            "정수를 입력하시오: 3\n",
            "정수를 입력하시오: 4\n",
            "정수를 입력하시오: 5\n",
            "정수를 입력하시오: 9\n",
            "정수를 입력하시오: 0\n",
            "합은 24 입니다.\n"
          ]
        }
      ]
    },
    {
      "cell_type": "markdown",
      "source": [
        "6. 난수 생성 함수를 사용하여서 2개의 주사위를 던졌을 때 나오는 수를 다음과 같이 출력하여 보자."
      ],
      "metadata": {
        "id": "Vu1L6Rs-2Yge"
      }
    },
    {
      "cell_type": "code",
      "source": [
        "from random import randint\n",
        "for i in range(3):\n",
        "  d1 = randint(1,6)\n",
        "  d2 = randint(1,6)\n",
        "  print(\"첫번째 주사위=\", d1, \"두번째 주사위=\", d2)"
      ],
      "metadata": {
        "colab": {
          "base_uri": "https://localhost:8080/"
        },
        "id": "Tc5xxuqy2f8J",
        "outputId": "a918abfa-72f3-43bb-a9b9-13009d5f3255"
      },
      "execution_count": 10,
      "outputs": [
        {
          "output_type": "stream",
          "name": "stdout",
          "text": [
            "첫번째 주사위= 4 두번째 주사위= 5\n",
            "첫번째 주사위= 6 두번째 주사위= 2\n",
            "첫번째 주사위= 4 두번째 주사위= 4\n"
          ]
        }
      ]
    },
    {
      "cell_type": "markdown",
      "source": [
        "7. 터틀 그래픽과 반복을 사용하여 눈 모양을 그려보자. (IDLE)"
      ],
      "metadata": {
        "id": "FVYaeWiu29TZ"
      }
    },
    {
      "cell_type": "markdown",
      "source": [
        "8. 우리는 이번 장에서 터틀 그래픽으로 별을 그려보았다. 이 코드를 응용하여서 다음과 같이 10개의 별을 그리는 프로그램을 작성하라. 별들은 시작 각도가 약간씩 다르다. (IDEL)"
      ],
      "metadata": {
        "id": "cXYbDQd-3DtJ"
      }
    },
    {
      "cell_type": "markdown",
      "source": [
        "9. 반복과 난수를 함께 사용하면 화면에 랜덤한 원을 그릴 수 있다. 화면에 10개의 랜덤한 원을 그리는 프로그램을 작성하라. 원의 중심과 반지름이 모두 난수이어야 한다. (IDLE)"
      ],
      "metadata": {
        "id": "E5RYAvYR3OZR"
      }
    },
    {
      "cell_type": "markdown",
      "source": [
        "10. 다음과 같이 거북이를 왕복 달리기시키는 프로그램을 작성해보자. (IDLE)"
      ],
      "metadata": {
        "id": "yQrc_iIg3e4_"
      }
    },
    {
      "cell_type": "markdown",
      "source": [
        "11. 다음의 터틀 그래픽 프로그램을 분석해보자. (IDLE)"
      ],
      "metadata": {
        "id": "WeWh72-H3jeJ"
      }
    },
    {
      "cell_type": "markdown",
      "source": [
        "12. 터틀 그래픽과 반복을 사용하여 싸인 그래프를 그려보자. 거북이를 싸인값에 따라서 움직이면 된다. (IDLE)"
      ],
      "metadata": {
        "id": "1zPRenhC4A47"
      }
    }
  ]
}